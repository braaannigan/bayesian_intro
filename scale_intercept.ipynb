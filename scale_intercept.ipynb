{
 "cells": [
  {
   "cell_type": "code",
   "execution_count": 1,
   "metadata": {
    "collapsed": true
   },
   "outputs": [],
   "source": [
    "import numpy as np\n",
    "from sklearn.preprocessing import StandardScaler\n",
    "from sklearn.linear_model import LinearRegression\n",
    "import matplotlib.pyplot as plt\n",
    "\n",
    "%matplotlib inline"
   ]
  },
  {
   "cell_type": "code",
   "execution_count": 97,
   "metadata": {
    "collapsed": true
   },
   "outputs": [],
   "source": [
    "x = np.linspace(50,90)\n",
    "intercept = 60\n",
    "slope = 300\n",
    "y = intercept + slope*x + np.random.normal(0,3,size=len(x))"
   ]
  },
  {
   "cell_type": "code",
   "execution_count": 98,
   "metadata": {
    "collapsed": true
   },
   "outputs": [],
   "source": [
    "def splot(x,y):\n",
    "    fig,ax = plt.subplots()\n",
    "    ax.scatter(x,y)\n",
    "    plt.show()\n",
    "    "
   ]
  },
  {
   "cell_type": "code",
   "execution_count": 99,
   "metadata": {
    "collapsed": true
   },
   "outputs": [],
   "source": [
    "def lr(x,y):\n",
    "    if len(x.shape) == 1:\n",
    "        X = x[:,np.newaxis]\n",
    "    else:\n",
    "        X = x\n",
    "    model = LinearRegression()\n",
    "    model.fit(X,y)\n",
    "    print(\"Intercept: {}, Slope: {}\".format(model.intercept_,model.coef_))\n",
    "    return model.intercept_,model.coef_"
   ]
  },
  {
   "cell_type": "code",
   "execution_count": 105,
   "metadata": {},
   "outputs": [
    {
     "name": "stdout",
     "output_type": "stream",
     "text": [
      "Intercept: 58.594482157404855, Slope: [ 300.02477645]\n"
     ]
    }
   ],
   "source": [
    "a0,b0 = lr(x,y);"
   ]
  },
  {
   "cell_type": "code",
   "execution_count": 101,
   "metadata": {},
   "outputs": [
    {
     "data": {
      "image/png": "[encoded data removed]",
      "text/plain": [
       "<matplotlib.figure.Figure at 0x1a13bfb320>"
      ]
     },
     "metadata": {},
     "output_type": "display_data"
    }
   ],
   "source": [
    "splot(x,y)"
   ]
  },
  {
   "cell_type": "code",
   "execution_count": 102,
   "metadata": {},
   "outputs": [
    {
     "data": {
      "image/png": "[encoded data removed]",
      "text/plain": [
       "<matplotlib.figure.Figure at 0x1a13a9db00>"
      ]
     },
     "metadata": {},
     "output_type": "display_data"
    }
   ],
   "source": [
    "scalex = StandardScaler().fit(x[:,np.newaxis])\n",
    "xs = scalex.transform(x[:,np.newaxis])\n",
    "scaley = StandardScaler().fit(y[:,np.newaxis])\n",
    "ys = scaley.transform(y[:,np.newaxis])[:,0]\n",
    "splot(xs,ys)"
   ]
  },
  {
   "cell_type": "code",
   "execution_count": 106,
   "metadata": {},
   "outputs": [
    {
     "name": "stdout",
     "output_type": "stream",
     "text": [
      "Intercept: 4.618528082144806e-16, Slope: [ 0.9999996]\n"
     ]
    }
   ],
   "source": [
    "a,b = lr(xs,ys)"
   ]
  },
  {
   "cell_type": "code",
   "execution_count": 107,
   "metadata": {},
   "outputs": [
    {
     "name": "stdout",
     "output_type": "stream",
     "text": [
      "60 58.5944821574 [ 58.59448216]\n"
     ]
    }
   ],
   "source": [
    "print(intercept,a0,(a*scaley.scale_) + y.mean() - (b*(scaley.scale_/scalex.scale_)*x.mean()))"
   ]
  },
  {
   "cell_type": "code",
   "execution_count": 120,
   "metadata": {},
   "outputs": [],
   "source": [
    "import pymc3 as pm\n",
    "import theano.tensor as ttens\n",
    "import pandas as pd"
   ]
  },
  {
   "cell_type": "code",
   "execution_count": 113,
   "metadata": {},
   "outputs": [],
   "source": [
    "def linear_regression(X, y, \n",
    "                      n_features = None, n_samples = None,\n",
    "                      alpha_prior = None, beta_prior = None, sigma_prior = None,\n",
    "                      samples = 1000, njobs = 2):\n",
    "    if not alpha_prior:\n",
    "        alpha_prior = {'mu':0, 'sd':10}\n",
    "    if not beta_prior:\n",
    "        beta_prior = {'mu':np.zeros((n_features)), 'sd':3*np.ones((n_features))}\n",
    "    if not sigma_prior:\n",
    "        sigma_prior = {'sd': 3}\n",
    "    if not n_features:\n",
    "        n_features = X.shape[1]\n",
    "    if not n_samples:\n",
    "        n_samples = X.shape[0]\n",
    "\n",
    "    with pm.Model() as model: \n",
    "        #Specify priors\n",
    "        alpha = pm.Normal('alpha', mu = alpha_prior['mu'], sd = alpha_prior['sd'])\n",
    "        beta = pm.Normal('beta', mu = beta_prior['mu'], sd = beta_prior['sd'], shape = int(n_features))\n",
    "        sigma = pm.HalfNormal('sigma', sd = sigma_prior['sd'])\n",
    "        \n",
    "        # Specify regression relationship in mu\n",
    "        mu = alpha + ttens.dot(beta,X.T)\n",
    "        \n",
    "        # Specify likelihood\n",
    "        Y_obs = pm.Normal('Y_obs', mu = mu, sd = sigma, observed = y)\n",
    "        \n",
    "        # Fit the model\n",
    "        trace = pm.sample(draws = samples, njobs = njobs)\n",
    "        \n",
    "        # Generate data from the model\n",
    "        simulate_data = pm.sample_ppc(trace=trace,model=model)\n",
    "    return model, trace, simulate_data"
   ]
  },
  {
   "cell_type": "code",
   "execution_count": 114,
   "metadata": {},
   "outputs": [
    {
     "name": "stderr",
     "output_type": "stream",
     "text": [
      "Auto-assigning NUTS sampler...\n",
      "Initializing NUTS using jitter+adapt_diag...\n",
      "Multiprocess sampling (2 chains in 2 jobs)\n",
      "NUTS: [sigma_log__, beta, alpha]\n",
      "100%|██████████| 1500/1500 [00:06<00:00, 240.30it/s]\n",
      "The acceptance probability does not match the target. It is 0.909026258446, but should be close to 0.8. Try to increase the number of tuning steps.\n",
      "The acceptance probability does not match the target. It is 0.896167383666, but should be close to 0.8. Try to increase the number of tuning steps.\n",
      "100%|██████████| 1000/1000 [00:02<00:00, 466.01it/s]\n"
     ]
    }
   ],
   "source": [
    "model, trace, simulate_data = linear_regression(xs[:,np.newaxis],ys)"
   ]
  },
  {
   "cell_type": "code",
   "execution_count": 121,
   "metadata": {},
   "outputs": [],
   "source": [
    "def _to_dataframe(trace):\n",
    "    ft = pd.DataFrame()\n",
    "    param_list = trace.varnames\n",
    "    for idx,param_name in enumerate(param_list):\n",
    "        if \".\" not in param_name:\n",
    "            ft[param_name] = trace.get_values(param_name)\n",
    "        else:\n",
    "            param_short_name, feature_index = param_name.split(\".\")\n",
    "            feature_index = int(feature_index) -1\n",
    "            if len(fit.extract(param_short_name)[param_short_name].shape) < 2:\n",
    "                ft[param_name] = fit.extract(param_short_name)[param_short_name]\n",
    "            else:\n",
    "                ft[param_name] = fit.extract(param_short_name)[param_short_name][:,feature_index]\n",
    "    return ft\n",
    "\n",
    "# Extract the samples to a dataframe called ft\n",
    "ft = _to_dataframe(trace)\n"
   ]
  },
  {
   "cell_type": "code",
   "execution_count": 126,
   "metadata": {},
   "outputs": [],
   "source": [
    "ft['alpha_original'] = scaley.mean_ - ft.beta*(scaley.scale_/scalex.scale_)*scalex.mean_\n",
    "ft['beta_original'] = ft.beta*(scalex.scale_/scaley.scale_)"
   ]
  },
  {
   "cell_type": "code",
   "execution_count": 127,
   "metadata": {},
   "outputs": [
    {
     "data": {
      "text/plain": [
       "<matplotlib.axes._subplots.AxesSubplot at 0x1c1f01e550>"
      ]
     },
     "execution_count": 127,
     "metadata": {},
     "output_type": "execute_result"
    },
    {
     "data": {
      "image/png": "[encoded data removed]",
      "text/plain": [
       "<matplotlib.figure.Figure at 0x1c1f4a2390>"
      ]
     },
     "metadata": {},
     "output_type": "display_data"
    }
   ],
   "source": [
    "ft.alpha_original.hist()"
   ]
  },
  {
   "cell_type": "code",
   "execution_count": 130,
   "metadata": {},
   "outputs": [
    {
     "data": {
      "text/plain": [
       "<matplotlib.axes._subplots.AxesSubplot at 0x1c1f04f668>"
      ]
     },
     "execution_count": 130,
     "metadata": {},
     "output_type": "execute_result"
    },
    {
     "data": {
      "image/png": "[encoded data removed]",
      "text/plain": [
       "<matplotlib.figure.Figure at 0x1c1f2ceba8>"
      ]
     },
     "metadata": {},
     "output_type": "display_data"
    }
   ],
   "source": [
    "ft.beta_original.hist(bins=20)"
   ]
  },
  {
   "cell_type": "code",
   "execution_count": 65,
   "metadata": {},
   "outputs": [
    {
     "data": {
      "text/plain": [
       "array([ -3.47290517e-12])"
      ]
     },
     "execution_count": 65,
     "metadata": {},
     "output_type": "execute_result"
    }
   ],
   "source": [
    "(a*scaley.scale_)"
   ]
  },
  {
   "cell_type": "code",
   "execution_count": 70,
   "metadata": {},
   "outputs": [
    {
     "data": {
      "text/plain": [
       "array([ 0.99965192])"
      ]
     },
     "execution_count": 70,
     "metadata": {},
     "output_type": "execute_result"
    }
   ],
   "source": [
    "b"
   ]
  },
  {
   "cell_type": "code",
   "execution_count": 68,
   "metadata": {},
   "outputs": [
    {
     "data": {
      "text/plain": [
       "array([ 20925.30186394])"
      ]
     },
     "execution_count": 68,
     "metadata": {},
     "output_type": "execute_result"
    }
   ],
   "source": [
    "b*(scaley.scale_/scalex.scale_)*x.mean()"
   ]
  },
  {
   "cell_type": "code",
   "execution_count": null,
   "metadata": {
    "collapsed": true
   },
   "outputs": [],
   "source": []
  }
 ],
 "metadata": {
  "kernelspec": {
   "display_name": "bayes",
   "language": "python",
   "name": "bayes"
  },
  "language_info": {
   "codemirror_mode": {
    "name": "ipython",
    "version": 3
   },
   "file_extension": ".py",
   "mimetype": "text/x-python",
   "name": "python",
   "nbconvert_exporter": "python",
   "pygments_lexer": "ipython3",
   "version": "3.6.3"
  }
 },
 "nbformat": 4,
 "nbformat_minor": 2
}
